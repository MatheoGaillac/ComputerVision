{
 "cells": [
  {
   "cell_type": "code",
   "execution_count": 3,
   "id": "4fef1c1d-424e-40ac-adeb-a5fc75523358",
   "metadata": {},
   "outputs": [],
   "source": [
    "import cv2 \n",
    "import numpy as np \n",
    "from matplotlib import pyplot as plt "
   ]
  },
  {
   "cell_type": "code",
   "execution_count": 48,
   "id": "0292f45a-4659-4227-bfde-d9d4cc02e640",
   "metadata": {},
   "outputs": [],
   "source": [
    "#Fonction d'érosion de l'image\n",
    "def erodeImage(img, taille_element):\n",
    "    elementStructurant = np.ones((taille_element, taille_element), np.uint8)\n",
    "    resultat_erosion = cv2.erode(img, elementStructurant)\n",
    "    return resultat_erosion\n",
    "\n",
    "#Fonction de dilatation de l'image\n",
    "def dilateImage(img, taille_element):\n",
    "    elementStructurant = np.ones((taille_element, taille_element), np.uint8)\n",
    "    resultat_dilatation = cv2.dilate(img, elementStructurant)\n",
    "    return resultat_dilatation\n",
    "\n",
    "#Nous pouvons en effet supprimer les artefacts de l'image sans détériorer l'objet à segmenter, il suffit de jouer avec la taille de l'élément"
   ]
  },
  {
   "cell_type": "code",
   "execution_count": 15,
   "id": "83a5d49c-5508-4faa-a146-147b17f1cf41",
   "metadata": {},
   "outputs": [],
   "source": [
    "#Initialisation des images\n",
    "fichier = \"balle1.jpg\"\n",
    "imgB1 = cv2.imread(fichier, cv2.IMREAD_COLOR)\n",
    "fichier = \"balle2.jpg\"\n",
    "imgB2 = cv2.imread(fichier, cv2.IMREAD_COLOR)\n",
    "fichier = \"balle3.jpg\"\n",
    "imgB3 = cv2.imread(fichier, cv2.IMREAD_COLOR)"
   ]
  },
  {
   "cell_type": "code",
   "execution_count": 46,
   "id": "815ae0a7-1018-4713-8009-677213f5e4e2",
   "metadata": {},
   "outputs": [],
   "source": [
    "#Erosion des images et affichage\n",
    "for i in [5, 7, 9]:\n",
    "    erodedImgB1 = erodeImage(imgB1, i)\n",
    "    cv2.imshow(\"Balle 1 erode\", erodedImgB1)\n",
    "    cv2.waitKey(0)\n",
    "for i in [5, 7, 9]:\n",
    "    erodedImgB2 = erodeImage(imgB2, i)\n",
    "    cv2.imshow(\"Balle 2 erode\", erodedImgB2)\n",
    "    cv2.waitKey(0)\n",
    "for i in [5, 7, 9]:\n",
    "    erodedImgB3 = erodeImage(imgB3, i)\n",
    "    cv2.imshow(\"Balle 3 erode\", erodedImgB3)\n",
    "    cv2.waitKey(0)"
   ]
  },
  {
   "cell_type": "code",
   "execution_count": 47,
   "id": "93e42fbb-8090-4851-a645-2eb85bed1ea9",
   "metadata": {},
   "outputs": [],
   "source": [
    "#Dilatation des images et affichage\n",
    "for i in [5, 7, 50]:\n",
    "    dilatedImgB1 = dilateImage(imgB1, i)\n",
    "    cv2.imshow(\"Balle 1 dilate\", dilatedImgB1)\n",
    "    cv2.waitKey(0)\n",
    "for i in [5, 7, 9]:\n",
    "    dilatedImgB2 = dilateImage(imgB2, i)\n",
    "    cv2.imshow(\"Balle 2 dilate\", dilatedImgB2)\n",
    "    cv2.waitKey(0)\n",
    "for i in [5, 7, 9]:\n",
    "    dilatedImgB3 = dilateImage(imgB3, i)\n",
    "    cv2.imshow(\"Balle 3 dilate\", dilatedImgB3)\n",
    "    cv2.waitKey(0)"
   ]
  },
  {
   "cell_type": "code",
   "execution_count": 26,
   "id": "0ce5c363-bf9b-4a93-9a75-491abd86c957",
   "metadata": {},
   "outputs": [],
   "source": [
    "#Fonction d'ouverture \n",
    "def ouvertureImage(img, taille_element):\n",
    "    openImg = erodeImage(img, taille_element)\n",
    "    openImg = dilateImage(openImg, taille_element)\n",
    "    return openImg\n",
    "\n",
    "#Fonction de fermeture\n",
    "def fermetureImage(img, taille_element):\n",
    "    closeImg = dilateImage(img, taille_element)\n",
    "    closeImg = erodeImage(closeImg, taille_element)\n",
    "    return closeImg\n",
    "\n",
    "#L'opération d'ouverture permet de supprimer les artefacts de l'image et de préserver les pixels avec une taille de 9"
   ]
  },
  {
   "cell_type": "code",
   "execution_count": 49,
   "id": "e89a4b98-c813-4ce6-b6b4-80927a23789b",
   "metadata": {},
   "outputs": [],
   "source": [
    "#Affichage des images par ouverture\n",
    "for i in [5, 7, 9]:\n",
    "    openImgB1 = ouvertureImage(imgB1, i)\n",
    "    cv2.imshow(\"Balle 1 ouverte\", openImgB1)\n",
    "    cv2.waitKey(0)\n",
    "for i in [5, 7, 9]:\n",
    "    openImgB2 = ouvertureImage(imgB2, i)\n",
    "    cv2.imshow(\"Balle 2 ouverte\", openImgB2)\n",
    "    cv2.waitKey(0)\n",
    "for i in [5, 7, 9]:\n",
    "    openImgB3 = ouvertureImage(imgB3, i)\n",
    "    cv2.imshow(\"Balle 3 ouverte\", openImgB3)\n",
    "    cv2.waitKey(0)"
   ]
  },
  {
   "cell_type": "code",
   "execution_count": 52,
   "id": "c931d0aa-53e9-4679-bf96-3eda95daf00b",
   "metadata": {},
   "outputs": [],
   "source": [
    "#Affichage des images par fermeture\n",
    "for i in [5, 7, 9]:\n",
    "    closeImgB1 = fermetureImage(imgB1, i)\n",
    "    cv2.imshow(\"Balle 1 fermee\", closeImgB1)\n",
    "    cv2.waitKey(0)\n",
    "for i in [5, 7, 9]:\n",
    "    closeImgB2 = fermetureImage(imgB2, i)\n",
    "    cv2.imshow(\"Balle 2 fermee\", closeImgB2)\n",
    "    cv2.waitKey(0)\n",
    "for i in [5, 7, 9]:\n",
    "    closeImgB3 = fermetureImage(imgB3, i)\n",
    "    cv2.imshow(\"Balle 3 fermee\", closeImgB3)\n",
    "    cv2.waitKey(0)"
   ]
  },
  {
   "cell_type": "code",
   "execution_count": null,
   "id": "3101970f-4396-444a-9d0c-42b3bee41534",
   "metadata": {},
   "outputs": [],
   "source": []
  }
 ],
 "metadata": {
  "kernelspec": {
   "display_name": "Python 3 (ipykernel)",
   "language": "python",
   "name": "python3"
  },
  "language_info": {
   "codemirror_mode": {
    "name": "ipython",
    "version": 3
   },
   "file_extension": ".py",
   "mimetype": "text/x-python",
   "name": "python",
   "nbconvert_exporter": "python",
   "pygments_lexer": "ipython3",
   "version": "3.12.3"
  }
 },
 "nbformat": 4,
 "nbformat_minor": 5
}
