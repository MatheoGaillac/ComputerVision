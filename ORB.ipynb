{
 "cells": [
  {
   "cell_type": "code",
   "execution_count": 13,
   "id": "557973eb-5a0e-436e-b54d-9e2e6d15d34a",
   "metadata": {},
   "outputs": [],
   "source": [
    "import cv2\n",
    "import numpy as np"
   ]
  },
  {
   "cell_type": "code",
   "execution_count": 15,
   "id": "4aca8aa9-e428-44f7-af68-ed7e54dc1ee2",
   "metadata": {},
   "outputs": [],
   "source": [
    "fichier = \"varese.jpg\"\n",
    "img = cv2.imread(fichier, cv2.IMREAD_COLOR)"
   ]
  },
  {
   "cell_type": "code",
   "execution_count": 19,
   "id": "0579692c-efa7-4dc0-bf4c-16da773b34c6",
   "metadata": {},
   "outputs": [],
   "source": [
    "def algoORB(img):\n",
    "    imgGray = cv2.cvtColor(img, cv2.COLOR_BGR2GRAY)\n",
    "    orb = cv2.ORB_create()\n",
    "    points, descripteursImg = orb.detectAndCompute(imgGray, None)\n",
    "    couleur = (0, 0, 255)\n",
    "    cv2.drawKeypoints(img, points, img, couleur, cv2.DRAW_MATCHES_FLAGS_DRAW_RICH_KEYPOINTS)\n",
    "    return img"
   ]
  },
  {
   "cell_type": "code",
   "execution_count": 23,
   "id": "86ae74f4-0844-4928-bfcb-3b7facebf3b0",
   "metadata": {},
   "outputs": [
    {
     "data": {
      "text/plain": [
       "-1"
      ]
     },
     "execution_count": 23,
     "metadata": {},
     "output_type": "execute_result"
    }
   ],
   "source": [
    "res = algoORB(img)\n",
    "cv2.imshow(\"Resultat\", res)\n",
    "cv2.waitKey(0)"
   ]
  }
 ],
 "metadata": {
  "kernelspec": {
   "display_name": "Python 3 (ipykernel)",
   "language": "python",
   "name": "python3"
  },
  "language_info": {
   "codemirror_mode": {
    "name": "ipython",
    "version": 3
   },
   "file_extension": ".py",
   "mimetype": "text/x-python",
   "name": "python",
   "nbconvert_exporter": "python",
   "pygments_lexer": "ipython3",
   "version": "3.11.7"
  }
 },
 "nbformat": 4,
 "nbformat_minor": 5
}
