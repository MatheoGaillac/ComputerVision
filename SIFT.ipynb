{
 "cells": [
  {
   "cell_type": "code",
   "execution_count": 124,
   "id": "4ed9256b-d617-45bf-9bee-0d528bac2a7f",
   "metadata": {},
   "outputs": [],
   "source": [
    "import cv2\n",
    "import numpy as np"
   ]
  },
  {
   "cell_type": "code",
   "execution_count": 126,
   "id": "4e9d5518-83e1-4fd4-af4b-aa5a7feba3b0",
   "metadata": {},
   "outputs": [],
   "source": [
    "fichier = \"varese.jpg\"\n",
    "img = cv2.imread(fichier, cv2.IMREAD_COLOR)"
   ]
  },
  {
   "cell_type": "code",
   "execution_count": 128,
   "id": "63f4dfc4-f6c6-4407-bb93-a74abc9f5b6d",
   "metadata": {},
   "outputs": [],
   "source": [
    "def imgSIFT(img):\n",
    "    imgGray = cv2.cvtColor(img, cv2.COLOR_BGR2GRAY)\n",
    "    sift = cv2.SIFT_create() \n",
    "    points, descripteursImg = sift.detectAndCompute(imgGray, None)\n",
    "    couleur = (0, 0, 255)\n",
    "    cv2.drawKeypoints(img, points, img, couleur, cv2.DRAW_MATCHES_FLAGS_DRAW_RICH_KEYPOINTS)\n",
    "    return img"
   ]
  },
  {
   "cell_type": "code",
   "execution_count": 130,
   "id": "37466a87-1f7b-4b66-b8f3-b8316615ca8a",
   "metadata": {},
   "outputs": [
    {
     "data": {
      "text/plain": [
       "-1"
      ]
     },
     "execution_count": 130,
     "metadata": {},
     "output_type": "execute_result"
    }
   ],
   "source": [
    "res = imgSIFT(img)\n",
    "cv2.imshow(\"Resultat\", res)\n",
    "cv2.waitKey(0)"
   ]
  },
  {
   "cell_type": "code",
   "execution_count": 132,
   "id": "55294f5a-31aa-4a8e-bbac-f9cc3b84207a",
   "metadata": {},
   "outputs": [],
   "source": [
    "fichier = \"track.jpg\"\n",
    "trackImg = cv2.imread(fichier, cv2.IMREAD_COLOR)\n",
    "fichier = \"track_small.jpg\"\n",
    "smallTrackImg = cv2.imread(fichier, cv2.IMREAD_COLOR)"
   ]
  },
  {
   "cell_type": "code",
   "execution_count": 134,
   "id": "a9b7f69b-aa12-4b44-b0ed-c299a1316c12",
   "metadata": {},
   "outputs": [
    {
     "data": {
      "text/plain": [
       "-1"
      ]
     },
     "execution_count": 134,
     "metadata": {},
     "output_type": "execute_result"
    }
   ],
   "source": [
    "resTrackSIFT = imgSIFT(trackImg)\n",
    "resSmallTrackSIFT = imgSIFT(smallTrackImg)\n",
    "\n",
    "cv2.imshow(\"Resultat Track\", resTrackSIFT)\n",
    "cv2.imshow(\"Resultat Small Track\", resSmallTrackSIFT)\n",
    "cv2.waitKey(0)\n",
    "\n",
    "#L'algorithme de SIFT semble plus précis sur les points remarquables et  retourne plus de détails que Harris"
   ]
  },
  {
   "cell_type": "code",
   "execution_count": null,
   "id": "4ee455a0-69e3-46b1-a2c9-74fe3abc8d0c",
   "metadata": {},
   "outputs": [],
   "source": []
  }
 ],
 "metadata": {
  "kernelspec": {
   "display_name": "Python 3 (ipykernel)",
   "language": "python",
   "name": "python3"
  },
  "language_info": {
   "codemirror_mode": {
    "name": "ipython",
    "version": 3
   },
   "file_extension": ".py",
   "mimetype": "text/x-python",
   "name": "python",
   "nbconvert_exporter": "python",
   "pygments_lexer": "ipython3",
   "version": "3.11.7"
  }
 },
 "nbformat": 4,
 "nbformat_minor": 5
}
