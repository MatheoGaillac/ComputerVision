{
 "cells": [
  {
   "cell_type": "code",
   "execution_count": 1,
   "id": "ecc70a76-83dc-41a7-a9ce-8da23ad4855c",
   "metadata": {},
   "outputs": [],
   "source": [
    "import cv2\n",
    "import numpy as np\n",
    "from matplotlib import pyplot as plt"
   ]
  },
  {
   "cell_type": "code",
   "execution_count": 19,
   "id": "c344fc3a-e1d3-4d1b-8f9d-fee37c6c0a75",
   "metadata": {},
   "outputs": [
    {
     "data": {
      "text/plain": [
       "-1"
      ]
     },
     "execution_count": 19,
     "metadata": {},
     "output_type": "execute_result"
    }
   ],
   "source": [
    "# Générer une image noire de 160x120\n",
    "img_noir = np.zeros([160,120], np.uint8)\n",
    "cv2.imshow(\"Image noire de taille 160 x 120\", img_noir)\n",
    "cv2.waitKey(0)"
   ]
  },
  {
   "cell_type": "code",
   "execution_count": 20,
   "id": "14ee561e-794a-43f9-9faf-c2efd6a6ce53",
   "metadata": {},
   "outputs": [
    {
     "data": {
      "text/plain": [
       "-1"
      ]
     },
     "execution_count": 20,
     "metadata": {},
     "output_type": "execute_result"
    }
   ],
   "source": [
    "# Générer une image blanche de 80x60\n",
    "img_blanche = 255 * np.ones([80,60], np.uint8)\n",
    "cv2.imshow(\"Image blanche de taille 80 x 60\", img_blanche)\n",
    "cv2.waitKey(0)"
   ]
  },
  {
   "cell_type": "code",
   "execution_count": 23,
   "id": "34e065ed-e9ab-40e2-bd18-12b2f0090d61",
   "metadata": {},
   "outputs": [
    {
     "data": {
      "text/plain": [
       "-1"
      ]
     },
     "execution_count": 23,
     "metadata": {},
     "output_type": "execute_result"
    }
   ],
   "source": [
    "# Générer une image verte de 30x40\n",
    "img_verte = np.zeros([30,40, 3], np.uint8)\n",
    "img_verte[:, :] = (0, 255, 0)\n",
    "cv2.imshow(\"Image verte de taille 30 x 40\", img_verte)\n",
    "cv2.waitKey(0)\n",
    "\n",
    "#Autre méthode (Correction)\n",
    "img3_r = np.zeros([30,40], np.uint8)\n",
    "img3_b = np.zeros([30,40], np.uint8)\n",
    "img3_g = 255 + np.zeros([30,40], np.uint8)\n",
    "img3 = cv2.merge([img3_b, img3_g, img3_r])\n",
    "cv2.imshow(\"Image verte de taille 30 x 40\", img3)\n",
    "cv2.waitKey(0)"
   ]
  },
  {
   "cell_type": "code",
   "execution_count": null,
   "id": "9249ca28-c061-4371-bcb0-8d9ee41b7088",
   "metadata": {},
   "outputs": [],
   "source": []
  }
 ],
 "metadata": {
  "kernelspec": {
   "display_name": "Python 3 (ipykernel)",
   "language": "python",
   "name": "python3"
  },
  "language_info": {
   "codemirror_mode": {
    "name": "ipython",
    "version": 3
   },
   "file_extension": ".py",
   "mimetype": "text/x-python",
   "name": "python",
   "nbconvert_exporter": "python",
   "pygments_lexer": "ipython3",
   "version": "3.12.3"
  }
 },
 "nbformat": 4,
 "nbformat_minor": 5
}
