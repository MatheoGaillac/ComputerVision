{
 "cells": [
  {
   "cell_type": "code",
   "execution_count": 1,
   "id": "60878bc3-63e2-446b-8fd5-1fc9edf79636",
   "metadata": {},
   "outputs": [],
   "source": [
    "import cv2 \n",
    "import numpy as np \n",
    "from matplotlib import pyplot as plt "
   ]
  },
  {
   "cell_type": "code",
   "execution_count": 2,
   "id": "734aa954-7fe9-4575-b3ba-0c3f77d17e6d",
   "metadata": {},
   "outputs": [],
   "source": [
    "#Initialisation des images\n",
    "fichier = \"Bateau.png\"\n",
    "img = cv2.imread(fichier, cv2.IMREAD_COLOR)"
   ]
  },
  {
   "cell_type": "code",
   "execution_count": 11,
   "id": "bbe2d9ba-2de1-43ff-8491-7f03c494a76b",
   "metadata": {},
   "outputs": [],
   "source": [
    "#Fonction pour appliquer un filtre Gaussien sur une image en choisissant le noyau et l'écart-type\n",
    "def filtreGaussien(img, tailleNoyauHorizontale, tailleNoyauVerticale, ecartType):\n",
    "    img = cv2.GaussianBlur(img,(tailleNoyauHorizontale,tailleNoyauVerticale), ecartType) \n",
    "    return img"
   ]
  },
  {
   "cell_type": "code",
   "execution_count": 16,
   "id": "6bf24347-a91d-4896-b5a7-6c19753d5b1e",
   "metadata": {},
   "outputs": [
    {
     "data": {
      "text/plain": [
       "-1"
      ]
     },
     "execution_count": 16,
     "metadata": {},
     "output_type": "execute_result"
    }
   ],
   "source": [
    "#Affichage d'une image en variant la taille du noyau\n",
    "for i in [1, 5, 9, 13, 17]:\n",
    "    imgGaussian = filtreGaussien(img, i, i, 0)\n",
    "    cv2.imshow(\"Image Gaussien \" + str(i), imgGaussian)\n",
    "cv2.imshow(\"Image originelle\", img)\n",
    "cv2.waitKey(0)\n",
    "\n",
    "#Affichage d'une image en variant l'écart-type\n",
    "for i in [1, 5, 9, 13, 17]:\n",
    "    imgGaussian = filtreGaussien(img, 5, 5, i)\n",
    "    cv2.imshow(\"Image Gaussien \" + str(i), imgGaussian)\n",
    "cv2.imshow(\"Image originelle\", img)\n",
    "cv2.waitKey(0)"
   ]
  }
 ],
 "metadata": {
  "kernelspec": {
   "display_name": "Python 3 (ipykernel)",
   "language": "python",
   "name": "python3"
  },
  "language_info": {
   "codemirror_mode": {
    "name": "ipython",
    "version": 3
   },
   "file_extension": ".py",
   "mimetype": "text/x-python",
   "name": "python",
   "nbconvert_exporter": "python",
   "pygments_lexer": "ipython3",
   "version": "3.12.3"
  }
 },
 "nbformat": 4,
 "nbformat_minor": 5
}
