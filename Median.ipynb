{
 "cells": [
  {
   "cell_type": "code",
   "execution_count": 4,
   "id": "a1f74ee7-288f-4458-a39f-cf1f77fcd0f0",
   "metadata": {},
   "outputs": [],
   "source": [
    "import cv2 \n",
    "import numpy as np \n",
    "from matplotlib import pyplot as plt "
   ]
  },
  {
   "cell_type": "code",
   "execution_count": 5,
   "id": "f7f59f15-7d59-4a99-9cb0-6645eaabb476",
   "metadata": {},
   "outputs": [],
   "source": [
    "#Initialisation des images\n",
    "fichier = \"saltpeppernoise1.png\"\n",
    "img = cv2.imread(fichier, cv2.IMREAD_COLOR)"
   ]
  },
  {
   "cell_type": "code",
   "execution_count": 6,
   "id": "04612b8d-78a6-4661-a696-39b3be0d9c6b",
   "metadata": {},
   "outputs": [],
   "source": [
    "#Fonction qui applique un filtre médian\n",
    "def filtreMedian(img, tailleNoyau):\n",
    "    img = cv2.medianBlur(img, tailleNoyau)\n",
    "    return img"
   ]
  },
  {
   "cell_type": "code",
   "execution_count": null,
   "id": "9b8ca6dc-e643-49e4-8030-9ecbf4dd45d8",
   "metadata": {},
   "outputs": [],
   "source": [
    "imgMedian = filtreMedian(img, 7)\n",
    "cv2.imshow(\"Image Median 7\", imgMedian)\n",
    "cv2.waitKey(0)"
   ]
  }
 ],
 "metadata": {
  "kernelspec": {
   "display_name": "Python 3 (ipykernel)",
   "language": "python",
   "name": "python3"
  },
  "language_info": {
   "codemirror_mode": {
    "name": "ipython",
    "version": 3
   },
   "file_extension": ".py",
   "mimetype": "text/x-python",
   "name": "python",
   "nbconvert_exporter": "python",
   "pygments_lexer": "ipython3",
   "version": "3.12.3"
  }
 },
 "nbformat": 4,
 "nbformat_minor": 5
}
