{
 "cells": [
  {
   "cell_type": "code",
   "execution_count": 3,
   "id": "5a0c1097-f3b1-4d05-88f4-9a0be6232040",
   "metadata": {},
   "outputs": [],
   "source": [
    "import cv2 \n",
    "import numpy as np \n",
    "from matplotlib import pyplot as plt "
   ]
  },
  {
   "cell_type": "code",
   "execution_count": 10,
   "id": "ec7e0f1f-89ce-4ab4-8f3f-a733f906f278",
   "metadata": {},
   "outputs": [
    {
     "data": {
      "text/plain": [
       "-1"
      ]
     },
     "execution_count": 10,
     "metadata": {},
     "output_type": "execute_result"
    }
   ],
   "source": [
    "img = cv2.imread('bateau.png', 0)\n",
    "edges = cv2.Canny(img, 100, 200)\n",
    "cv2.imshow(\"Edges\", edges)\n",
    "\n",
    "#Valeur pour tester les contours, plus les seuils sont écartés plus il y aura de contours, de même dans le sens inverse\n",
    "# edges1 = cv2.Canny(img, 10, 200)\n",
    "# edges2 = cv2.Canny(img, 100, 10)\n",
    "# edges3 = cv2.Canny(img, 200, 256)\n",
    "# edges4 = cv2.Canny(img, 50, 100)\n",
    "# edges5 = cv2.Canny(img, 256, 250)\n",
    "# edges6 = cv2.Canny(img, 1, 1)\n",
    "\n",
    "# cv2.imshow(\"Edges1\", edges1)\n",
    "# cv2.imshow(\"Edges2\", edges2)\n",
    "# cv2.imshow(\"Edges3\", edges3)\n",
    "# cv2.imshow(\"Edges4\", edges4)\n",
    "# cv2.imshow(\"Edges5\", edges5)\n",
    "# cv2.imshow(\"Edges6\", edges6)\n",
    "cv2.waitKey(0)"
   ]
  },
  {
   "cell_type": "code",
   "execution_count": null,
   "id": "1151b909-2b73-4ca9-a6da-10577275a86a",
   "metadata": {},
   "outputs": [],
   "source": []
  }
 ],
 "metadata": {
  "kernelspec": {
   "display_name": "Python 3 (ipykernel)",
   "language": "python",
   "name": "python3"
  },
  "language_info": {
   "codemirror_mode": {
    "name": "ipython",
    "version": 3
   },
   "file_extension": ".py",
   "mimetype": "text/x-python",
   "name": "python",
   "nbconvert_exporter": "python",
   "pygments_lexer": "ipython3",
   "version": "3.12.3"
  }
 },
 "nbformat": 4,
 "nbformat_minor": 5
}
