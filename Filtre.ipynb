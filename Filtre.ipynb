{
 "cells": [
  {
   "cell_type": "code",
   "execution_count": 1,
   "id": "a9d3db0c-5ebb-451a-bc95-3212ec5e298a",
   "metadata": {},
   "outputs": [],
   "source": [
    "import cv2 \n",
    "import numpy as np \n",
    "from matplotlib import pyplot as plt "
   ]
  },
  {
   "cell_type": "code",
   "execution_count": 2,
   "id": "73104718-cecc-4a82-bf95-9870249a9e25",
   "metadata": {},
   "outputs": [],
   "source": [
    "#Initialisation des images\n",
    "fichier = \"ville.jpg\"\n",
    "img = cv2.imread(fichier, cv2.IMREAD_COLOR)"
   ]
  },
  {
   "cell_type": "code",
   "execution_count": 36,
   "id": "c1654dd0-af18-498e-9520-931c5f0601ce",
   "metadata": {},
   "outputs": [],
   "source": [
    "#Fonction correspondant au filtre 1 = Filtre Identité\n",
    "def filtre1(img):\n",
    "    noyau = np.array([[0, 0, 0],[0, 1, 0],[0, 0, 0]])\n",
    "    img = cv2.filter2D(src=img, ddepth=-1, kernel=noyau)\n",
    "    return img\n",
    "\n",
    "#Fonction correspondant au filtre 2\n",
    "def filtre2(img):\n",
    "    noyau = np.array([[1, 1, 1],[1, 1, 1],[1, 1, 1]])\n",
    "    img = cv2.filter2D(src=img, ddepth=-1, kernel=noyau)\n",
    "    return img\n",
    "\n",
    "#Fonction correspondant au filtre 3 = Filtre Moyenneur\n",
    "def filtre3(img):\n",
    "    noyau = np.array([[1, 1, 1],[1, 1, 1],[1, 1, 1]])\n",
    "    noyau = np.ones((5, 5), np.float32) / 9\n",
    "    img = cv2.filter2D(src=img, ddepth=-1, kernel=noyau)\n",
    "    return img"
   ]
  },
  {
   "cell_type": "code",
   "execution_count": 35,
   "id": "40de4a8e-126f-4d10-ab6d-08694583e89e",
   "metadata": {},
   "outputs": [
    {
     "data": {
      "text/plain": [
       "-1"
      ]
     },
     "execution_count": 35,
     "metadata": {},
     "output_type": "execute_result"
    }
   ],
   "source": [
    "#Application des filtres et affichage\n",
    "imgF1 = filtre1(img)\n",
    "cv2.imshow(\"Ville Filtre 1\", imgF1)\n",
    "cv2.waitKey(0)\n",
    "imgF2 = filtre2(img)\n",
    "cv2.imshow(\"Ville Filtre 2\", imgF2)\n",
    "cv2.waitKey(0)\n",
    "imgF3 = filtre3(img)\n",
    "cv2.imshow(\"Ville Filtre 3\", imgF3)\n",
    "cv2.waitKey(0)"
   ]
  }
 ],
 "metadata": {
  "kernelspec": {
   "display_name": "Python 3 (ipykernel)",
   "language": "python",
   "name": "python3"
  },
  "language_info": {
   "codemirror_mode": {
    "name": "ipython",
    "version": 3
   },
   "file_extension": ".py",
   "mimetype": "text/x-python",
   "name": "python",
   "nbconvert_exporter": "python",
   "pygments_lexer": "ipython3",
   "version": "3.12.3"
  }
 },
 "nbformat": 4,
 "nbformat_minor": 5
}
