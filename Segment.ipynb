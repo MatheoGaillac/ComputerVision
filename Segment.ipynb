{
 "cells": [
  {
   "cell_type": "code",
   "execution_count": 6,
   "id": "41709e45-d5da-4160-bed3-43787bbd0c96",
   "metadata": {},
   "outputs": [],
   "source": [
    "import cv2\n",
    "import numpy as np\n",
    "from matplotlib import pyplot as plt"
   ]
  },
  {
   "cell_type": "code",
   "execution_count": 58,
   "id": "c8999e81-7f7a-4ebf-acec-f6a6eee33dad",
   "metadata": {},
   "outputs": [],
   "source": [
    "#Création d'une fonction pour redimensionner une image\n",
    "def resize(img, largeur, hauteur):\n",
    "    return cv2.resize(img,(largeur,hauteur),interpolation=cv2.INTER_AREA)\n",
    "\n",
    "#Création d'une fonction pour retourner une image\n",
    "def rotate(img, sens):\n",
    "    return cv2.flip(img, sens)\n",
    "\n",
    "#Convertir l'image en niveau de gris\n",
    "def convertGrayscale(img):\n",
    "    return cv2.cvtColor(img, cv2.COLOR_BGR2GRAY)\n",
    "\n",
    "#Copier une image RGB vers une autre\n",
    "def copyToImage(imgA, imgB, offsetX, offsetY):\n",
    "    for i in range (imgA.shape[0]):\n",
    "        for j in range (imgA.shape[1]):\n",
    "            imgB[i+offsetX, j+offsetY, 0] = imgA[i,j,0]\n",
    "            imgB[i+offsetX, j+offsetY, 1] = imgA[i,j,1]\n",
    "            imgB[i+offsetX, j+offsetY, 2] = imgA[i,j,2]\n",
    "\n",
    "#Copier une image en niveau de gris vers une autre\n",
    "def imageTo3ChannelImage(img):\n",
    "    imgRes = np.zeros([img.shape[0], img.shape[1], 3], np.uint8)\n",
    "    for i in range (img.shape[0]):\n",
    "        for j in range (img.shape[1]):\n",
    "            imgRes[i, j, 0] = img[i,j]\n",
    "            imgRes[i, j, 1] = img[i,j]\n",
    "            imgRes[i, j, 2] = img[i,j]\n",
    "    return imgRes"
   ]
  },
  {
   "cell_type": "code",
   "execution_count": 59,
   "id": "7b78bc7b-34bf-4596-9fe7-e39c47f92e9a",
   "metadata": {},
   "outputs": [
    {
     "data": {
      "text/plain": [
       "-1"
      ]
     },
     "execution_count": 59,
     "metadata": {},
     "output_type": "execute_result"
    }
   ],
   "source": [
    "#Lire l'image de la fleur et l'afficher\n",
    "fichier = \"fleur.png\"\n",
    "img = cv2.imread(fichier, cv2.IMREAD_COLOR)\n",
    "cv2.imshow(\"Image originale\", img)\n",
    "cv2.waitKey(0)"
   ]
  },
  {
   "cell_type": "code",
   "execution_count": 64,
   "id": "d71ac4eb-53e6-4d20-a81d-c513928a7936",
   "metadata": {},
   "outputs": [],
   "source": [
    "def segmentGray(img, seuil, valeurMax, typeSeg):\n",
    "    _, res = cv2.threshold(img, seuil, valeurMax, typeSeg ) \n",
    "    return res"
   ]
  },
  {
   "cell_type": "code",
   "execution_count": 68,
   "id": "f3e66065-3ab8-4075-9ee8-e367963dc672",
   "metadata": {},
   "outputs": [
    {
     "data": {
      "text/plain": [
       "-1"
      ]
     },
     "execution_count": 68,
     "metadata": {},
     "output_type": "execute_result"
    }
   ],
   "source": [
    "#Affichage de tous les résultats sur une seule image\n",
    "\n",
    "#Création de la fenêtre en noire\n",
    "imgRes = np.zeros([3*img.shape[0], 3*img.shape[1], 3], np.uint8)\n",
    "\n",
    "img3channel = imageTo3ChannelImage(convertGrayscale(img))\n",
    "segmentedImg = segmentGray(img, 100, 255, 1)\n",
    "\n",
    "copyToImage(img, imgRes, 0, 0)\n",
    "copyToImage(rotate(img, 0), imgRes, 0, img.shape[1])\n",
    "copyToImage(resize(img, 100, 200), imgRes, img.shape[0], 0)\n",
    "copyToImage(img3channel, imgRes, 0, img.shape[1]*2)\n",
    "copyToImage(segmentGray(img, 100, 255, 1), imgRes, img.shape[0], img.shape[1])\n",
    "cv2.imshow(\"Resultat\", imgRes)\n",
    "cv2.waitKey(0)"
   ]
  }
 ],
 "metadata": {
  "kernelspec": {
   "display_name": "Python 3 (ipykernel)",
   "language": "python",
   "name": "python3"
  },
  "language_info": {
   "codemirror_mode": {
    "name": "ipython",
    "version": 3
   },
   "file_extension": ".py",
   "mimetype": "text/x-python",
   "name": "python",
   "nbconvert_exporter": "python",
   "pygments_lexer": "ipython3",
   "version": "3.12.3"
  }
 },
 "nbformat": 4,
 "nbformat_minor": 5
}
