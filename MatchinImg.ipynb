{
 "cells": [
  {
   "cell_type": "code",
   "execution_count": 161,
   "id": "8ec9836b-d500-4ccc-8a78-53999ee54976",
   "metadata": {},
   "outputs": [],
   "source": [
    "import cv2\n",
    "import numpy as np"
   ]
  },
  {
   "cell_type": "code",
   "execution_count": 163,
   "id": "28b1984a-d2f6-45d4-b61b-efe46dc69146",
   "metadata": {},
   "outputs": [],
   "source": [
    "fichier = \"nasa_logo.png\"\n",
    "imgLogoNasa = cv2.imread(fichier, cv2.IMREAD_COLOR)\n",
    "fichier = \"kennedy_space_center.jpg\"\n",
    "imgKennedySpaceCenter = cv2.imread(fichier, cv2.IMREAD_COLOR)"
   ]
  },
  {
   "cell_type": "code",
   "execution_count": 165,
   "id": "63b37426-8f37-4846-b195-4f99f46311fd",
   "metadata": {},
   "outputs": [],
   "source": [
    "def matchingImg(img1, img2):\n",
    "    imgGray1 = cv2.cvtColor(img1, cv2.COLOR_BGR2GRAY)\n",
    "    imgGray2 = cv2.cvtColor(img2, cv2.COLOR_BGR2GRAY)\n",
    "    orb = cv2.ORB_create()\n",
    "    pointsA, descripteursImgA = orb.detectAndCompute(imgGray1, None)\n",
    "    pointsB, descripteursImgB = orb.detectAndCompute(imgGray2, None)\n",
    "    algoBF = cv2.BFMatcher(cv2.NORM_HAMMING, crossCheck=False)\n",
    "    paires_corresp = algoBF.knnMatch(descripteursImgA, descripteursImgB, k=2)\n",
    "    Matches_tri = sorted(paires_corresp, key=lambda x:x[0].distance)\n",
    "    return imgGray1, imgGray2, pointsA, pointsB, Matches_tri[:25]"
   ]
  },
  {
   "cell_type": "code",
   "execution_count": 167,
   "id": "dc57b6c7-6d1a-4133-aac4-f131984fc4dc",
   "metadata": {},
   "outputs": [
    {
     "data": {
      "text/plain": [
       "-1"
      ]
     },
     "execution_count": 167,
     "metadata": {},
     "output_type": "execute_result"
    }
   ],
   "source": [
    "img1, img2, keypoints1, keypoints2, matches = matchingImg(imgLogoNasa, imgKennedySpaceCenter)\n",
    "res = cv2.drawMatchesKnn(img1, keypoints1, img2, keypoints2, matches, None, matchColor=None, singlePointColor=None, matchesMask=None, flags=0)\n",
    "cv2.imshow(\"Resultat\", res)\n",
    "cv2.waitKey(0)"
   ]
  },
  {
   "cell_type": "code",
   "execution_count": null,
   "id": "0ac53da8-a785-4c04-a65f-2560555f25cb",
   "metadata": {},
   "outputs": [],
   "source": []
  }
 ],
 "metadata": {
  "kernelspec": {
   "display_name": "Python 3 (ipykernel)",
   "language": "python",
   "name": "python3"
  },
  "language_info": {
   "codemirror_mode": {
    "name": "ipython",
    "version": 3
   },
   "file_extension": ".py",
   "mimetype": "text/x-python",
   "name": "python",
   "nbconvert_exporter": "python",
   "pygments_lexer": "ipython3",
   "version": "3.11.7"
  }
 },
 "nbformat": 4,
 "nbformat_minor": 5
}
