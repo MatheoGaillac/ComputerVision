{
 "cells": [
  {
   "cell_type": "code",
   "execution_count": 41,
   "id": "c7ba2044-a4cf-4d1e-829c-c59791ec552f",
   "metadata": {},
   "outputs": [],
   "source": [
    "import cv2\n",
    "import numpy as np"
   ]
  },
  {
   "cell_type": "code",
   "execution_count": 43,
   "id": "72cce6a1-3598-40a6-a759-9719193641d8",
   "metadata": {},
   "outputs": [],
   "source": [
    "fichier = \"chess_board.png\"\n",
    "img = cv2.imread(fichier, cv2.IMREAD_COLOR)"
   ]
  },
  {
   "cell_type": "code",
   "execution_count": 45,
   "id": "27154dc8-1a6a-49a6-b055-bdca3eee591c",
   "metadata": {},
   "outputs": [],
   "source": [
    "def contoursHarris(img):\n",
    "    imgGray = cv2.cvtColor(img, cv2.COLOR_BGR2GRAY)\n",
    "    resHarris = cv2.cornerHarris(imgGray, 2, 23, 0.04)\n",
    "    return resHarris"
   ]
  },
  {
   "cell_type": "code",
   "execution_count": 47,
   "id": "b1e0dfe1-c199-4ee2-b1c3-f184d0f548aa",
   "metadata": {},
   "outputs": [
    {
     "data": {
      "text/plain": [
       "-1"
      ]
     },
     "execution_count": 47,
     "metadata": {},
     "output_type": "execute_result"
    }
   ],
   "source": [
    "res = contoursHarris(img)\n",
    "img[res > 0.01 *res.max()] = [0, 0, 255]\n",
    "cv2.imshow(\"Resultat\", res)\n",
    "cv2.imshow(\"Resultat sur l'image\", img)\n",
    "cv2.waitKey(0)"
   ]
  },
  {
   "cell_type": "code",
   "execution_count": 31,
   "id": "7b7f5d7d-ddbe-4647-a05c-89b4d9b7202c",
   "metadata": {},
   "outputs": [],
   "source": [
    "fichier = \"track.jpg\"\n",
    "trackImg = cv2.imread(fichier, cv2.IMREAD_COLOR)\n",
    "fichier = \"track_small.jpg\"\n",
    "smallTrackImg = cv2.imread(fichier, cv2.IMREAD_COLOR)"
   ]
  },
  {
   "cell_type": "code",
   "execution_count": 52,
   "id": "9b3a970d-683a-468f-af92-e13e1f79903b",
   "metadata": {},
   "outputs": [
    {
     "data": {
      "text/plain": [
       "-1"
      ]
     },
     "execution_count": 52,
     "metadata": {},
     "output_type": "execute_result"
    }
   ],
   "source": [
    "resTrack = contoursHarris(trackImg)\n",
    "resSmallTrack = contoursHarris(smallTrackImg)\n",
    "\n",
    "trackImg[resTrack > 0.01 *resTrack.max()] = [0, 0, 255]\n",
    "smallTrackImg[resSmallTrack > 0.01 *resSmallTrack.max()] = [0, 0, 255]\n",
    "\n",
    "cv2.imshow(\"Resultat Track\", trackImg)\n",
    "cv2.imshow(\"Resultat Small Track\", smallTrackImg)\n",
    "cv2.waitKey(0)\n",
    "\n",
    "#Le résultat produit n'est pas le même, sur l'image de base seul les coins des textes sont détectés\n",
    "#Tandis que sur la petite version du circuit, la plupart des virages sont détectés\n",
    "#Cependant la plus grande image affiche plus de coins détectés"
   ]
  },
  {
   "cell_type": "code",
   "execution_count": null,
   "id": "5a681350-4327-4a8e-b6cc-b6bf59d70ff4",
   "metadata": {},
   "outputs": [],
   "source": []
  }
 ],
 "metadata": {
  "kernelspec": {
   "display_name": "Python 3 (ipykernel)",
   "language": "python",
   "name": "python3"
  },
  "language_info": {
   "codemirror_mode": {
    "name": "ipython",
    "version": 3
   },
   "file_extension": ".py",
   "mimetype": "text/x-python",
   "name": "python",
   "nbconvert_exporter": "python",
   "pygments_lexer": "ipython3",
   "version": "3.11.7"
  }
 },
 "nbformat": 4,
 "nbformat_minor": 5
}
