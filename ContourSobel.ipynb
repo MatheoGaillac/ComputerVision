{
 "cells": [
  {
   "cell_type": "code",
   "execution_count": 3,
   "id": "6e9398ef-8043-485a-a1b1-c5702f08fff6",
   "metadata": {},
   "outputs": [],
   "source": [
    "import cv2 \n",
    "import numpy as np \n",
    "from matplotlib import pyplot as plt "
   ]
  },
  {
   "cell_type": "code",
   "execution_count": 4,
   "id": "a5c1931d-222c-4b00-a2d1-46a21a101fb7",
   "metadata": {},
   "outputs": [],
   "source": [
    "#Initialisation des images\n",
    "fichier = \"ville.jpg\"\n",
    "img = cv2.imread(fichier, cv2.IMREAD_COLOR)"
   ]
  },
  {
   "cell_type": "code",
   "execution_count": 73,
   "id": "4cfa45ba-2439-4645-af67-5f7811f07a5f",
   "metadata": {},
   "outputs": [],
   "source": [
    "def contoursSobel(img):\n",
    "    #Conversion en gris\n",
    "    grayImage = cv2.cvtColor(img, cv2.COLOR_BGR2GRAY)\n",
    "\n",
    "    #Application d'un filtre Gaussien de 5x5\n",
    "    gaussianImage = cv2.GaussianBlur(grayImage,(5,5),0)\n",
    "\n",
    "    #Calcul du gradient par Sobel, horizontalement puis verticalement\n",
    "    sobelXImage = cv2.Sobel(gaussianImage, cv2.CV_64F, 1, 0, ksize=3)\n",
    "    sobelYImage = cv2.Sobel(gaussianImage, cv2.CV_64F, 0, 1, ksize=3)\n",
    "\n",
    "    #Récupération de la valeur absolu des pixels des deux images\n",
    "    imgX = cv2.convertScaleAbs(sobelXImage)\n",
    "    imgY = cv2.convertScaleAbs(sobelYImage)\n",
    "\n",
    "    imgRes = cv2.addWeighted(imgX, 0.6, imgY, 0.6, 0.0)\n",
    "    return imgRes"
   ]
  },
  {
   "cell_type": "code",
   "execution_count": 74,
   "id": "30468793-235a-4c9f-b0ab-39874fe78a7e",
   "metadata": {},
   "outputs": [
    {
     "data": {
      "text/plain": [
       "-1"
      ]
     },
     "execution_count": 74,
     "metadata": {},
     "output_type": "execute_result"
    }
   ],
   "source": [
    "imgSobel = contoursSobel(img)\n",
    "cv2.imshow(\"Image Sobel\", imgSobel)\n",
    "cv2.waitKey(0)"
   ]
  }
 ],
 "metadata": {
  "kernelspec": {
   "display_name": "Python 3 (ipykernel)",
   "language": "python",
   "name": "python3"
  },
  "language_info": {
   "codemirror_mode": {
    "name": "ipython",
    "version": 3
   },
   "file_extension": ".py",
   "mimetype": "text/x-python",
   "name": "python",
   "nbconvert_exporter": "python",
   "pygments_lexer": "ipython3",
   "version": "3.12.3"
  }
 },
 "nbformat": 4,
 "nbformat_minor": 5
}
